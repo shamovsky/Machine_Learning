{
 "cells": [
  {
   "cell_type": "markdown",
   "metadata": {},
   "source": [
    "# Building the various models"
   ]
  },
  {
   "cell_type": "markdown",
   "metadata": {},
   "source": [
    "### Decision Tree"
   ]
  },
  {
   "cell_type": "code",
   "execution_count": 10,
   "metadata": {},
   "outputs": [],
   "source": [
    "import itertools\n",
    "import numpy as np\n",
    "import matplotlib.pyplot as plt\n",
    "from matplotlib.ticker import NullFormatter\n",
    "import pandas as pd\n",
    "import numpy as np\n",
    "import matplotlib.ticker as ticker\n",
    "from sklearn import preprocessing\n",
    "from sklearn.metrics import f1_score, jaccard_score\n",
    "\n",
    "%matplotlib inline\n",
    "Feature=pd.read_csv('Feature')\n",
    "df = pd.read_csv('loan_train.csv')\n",
    "X=np.load('X.npy')\n",
    "y = df['loan_status'].values #labels\n",
    "X= preprocessing.StandardScaler().fit(X).transform(X)\n",
    "\n",
    "from sklearn.model_selection import train_test_split\n",
    "from sklearn import metrics\n",
    "\n",
    "from sklearn.tree import DecisionTreeClassifier\n",
    "\n",
    "\n",
    "import warnings\n",
    "warnings.filterwarnings(\"ignore\", category=DeprecationWarning) "
   ]
  },
  {
   "cell_type": "code",
   "execution_count": 16,
   "metadata": {},
   "outputs": [],
   "source": [
    "X_trainset, X_testset, y_trainset, y_testset = train_test_split(X, y, test_size=0.4, random_state=3)\n",
    "Tree = DecisionTreeClassifier(criterion=\"entropy\", max_depth = 2)\n",
    "Tree.fit(X_trainset,y_trainset)\n",
    "predTree = Tree.predict(X_testset)\n",
    "\n",
    "#For use in test \n",
    "pd.DataFrame(X_trainset).to_csv('Xtrain_tree',index=None)\n",
    "pd.DataFrame(y_trainset).to_csv('ytrain_tree',index=None)\n"
   ]
  },
  {
   "cell_type": "code",
   "execution_count": 12,
   "metadata": {},
   "outputs": [
    {
     "name": "stdout",
     "output_type": "stream",
     "text": [
      "DecisionTrees's Accuracy:  0.762589928057554\n"
     ]
    }
   ],
   "source": [
    "print(\"DecisionTrees's Accuracy: \", metrics.accuracy_score(y_testset, predTree))"
   ]
  },
  {
   "cell_type": "markdown",
   "metadata": {},
   "source": [
    "### Checking decision trees optimal test size, max depth and criterion"
   ]
  },
  {
   "cell_type": "code",
   "execution_count": 13,
   "metadata": {},
   "outputs": [
    {
     "name": "stdout",
     "output_type": "stream",
     "text": [
      "DecisionTrees's Accuracy:  0.7142857142857143\n",
      "DecisionTrees's Accuracy:  0.6714285714285714\n",
      "DecisionTrees's Accuracy:  0.7403846153846154\n",
      "DecisionTrees's Accuracy:  0.762589928057554\n",
      "DecisionTrees's Accuracy:  0.7283236994219653\n",
      "DecisionTrees's Accuracy:  0.6923076923076923\n",
      "DecisionTrees's Accuracy:  0.6954732510288066\n",
      "DecisionTrees's Accuracy:  0.6967509025270758\n"
     ]
    }
   ],
   "source": [
    "#Checking for optimal test size\n",
    "for size in range(1,9):\n",
    "    X_trainset, X_testset, y_trainset, y_testset = train_test_split(X, y, test_size=size/10, random_state=3)\n",
    "    Tree = DecisionTreeClassifier(criterion=\"entropy\", max_depth = 2)\n",
    "    Tree.fit(X_trainset,y_trainset)\n",
    "    predTree =Tree.predict(X_testset)\n",
    "    print(\"DecisionTrees's Accuracy: \", metrics.accuracy_score(y_testset, predTree))"
   ]
  },
  {
   "cell_type": "code",
   "execution_count": 14,
   "metadata": {},
   "outputs": [
    {
     "name": "stdout",
     "output_type": "stream",
     "text": [
      "DecisionTrees's Accuracy:  0.762589928057554\n",
      "DecisionTrees's Accuracy:  0.762589928057554\n",
      "DecisionTrees's Accuracy:  0.697841726618705\n",
      "DecisionTrees's Accuracy:  0.7122302158273381\n",
      "DecisionTrees's Accuracy:  0.7050359712230215\n",
      "DecisionTrees's Accuracy:  0.6187050359712231\n",
      "DecisionTrees's Accuracy:  0.6618705035971223\n",
      "DecisionTrees's Accuracy:  0.6402877697841727\n",
      "DecisionTrees's Accuracy:  0.6618705035971223\n"
     ]
    }
   ],
   "source": [
    "#optimal max depth is 2, criterion doesnt affect accuracy\n",
    "for depth in range(1,10):\n",
    "    X_trainset, X_testset, y_trainset, y_testset = train_test_split(X, y, test_size=.4, random_state=3)\n",
    "    Tree = DecisionTreeClassifier(criterion=\"entropy\", max_depth = depth)\n",
    "    Tree.fit(X_trainset,y_trainset)\n",
    "    predTree = Tree.predict(X_testset)\n",
    "    print(\"DecisionTrees's Accuracy: \", metrics.accuracy_score(y_testset, predTree))"
   ]
  },
  {
   "cell_type": "markdown",
   "metadata": {},
   "source": [
    "## Decision Tree most accurate with test_size=.4 and  depth=2"
   ]
  }
 ],
 "metadata": {
  "kernelspec": {
   "display_name": "Python 3",
   "language": "python",
   "name": "python3"
  },
  "language_info": {
   "codemirror_mode": {
    "name": "ipython",
    "version": 3
   },
   "file_extension": ".py",
   "mimetype": "text/x-python",
   "name": "python",
   "nbconvert_exporter": "python",
   "pygments_lexer": "ipython3",
   "version": "3.7.4"
  }
 },
 "nbformat": 4,
 "nbformat_minor": 4
}
