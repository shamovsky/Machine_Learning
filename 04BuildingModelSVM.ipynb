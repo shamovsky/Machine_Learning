{
 "cells": [
  {
   "cell_type": "markdown",
   "metadata": {},
   "source": [
    "# Building the various models"
   ]
  },
  {
   "cell_type": "markdown",
   "metadata": {},
   "source": [
    "### Support Vector Machine"
   ]
  },
  {
   "cell_type": "code",
   "execution_count": 14,
   "metadata": {},
   "outputs": [],
   "source": [
    "import itertools\n",
    "import numpy as np\n",
    "import matplotlib.pyplot as plt\n",
    "from matplotlib.ticker import NullFormatter\n",
    "import pandas as pd\n",
    "import numpy as np\n",
    "import matplotlib.ticker as ticker\n",
    "from sklearn import preprocessing\n",
    "from sklearn.metrics import f1_score, jaccard_similarity_score\n",
    "\n",
    "%matplotlib inline\n",
    "Feature=pd.read_csv('Feature')\n",
    "df = pd.read_csv('loan_train.csv')\n",
    "X=np.load('X.npy')\n",
    "y = df['loan_status'].values #labels\n",
    "X= preprocessing.StandardScaler().fit(X).transform(X)\n",
    "\n",
    "from sklearn.model_selection import train_test_split\n",
    "from sklearn import metrics\n",
    "\n",
    "from sklearn import svm\n",
    "\n",
    "\n",
    "import warnings\n",
    "warnings.filterwarnings('ignore')\n"
   ]
  },
  {
   "cell_type": "code",
   "execution_count": 19,
   "metadata": {},
   "outputs": [
    {
     "name": "stdout",
     "output_type": "stream",
     "text": [
      "The F1 score is: 0.7912087912087912\n",
      "The Jaccard Simmilarity Index is: 0.8571428571428571\n"
     ]
    }
   ],
   "source": [
    "X_train, X_test, y_train, y_test = train_test_split( X, y, test_size=0.1, random_state=4)\n",
    "\n",
    "clf = svm.SVC(kernel='linear')\n",
    "clf.fit(X_train, y_train) \n",
    "\n",
    "yhat = clf.predict(X_test)\n",
    "\n",
    "print('The F1 score is:',f1_score(y_test, yhat, average='weighted')) \n",
    "print('The Jaccard Simmilarity Index is:',jaccard_similarity_score(y_test, yhat))\n",
    "\n",
    "#For use in test \n",
    "pd.DataFrame(X_train).to_csv('Xtrain_svm',index=None)\n",
    "pd.DataFrame(y_train).to_csv('ytrain_svm',index=None)"
   ]
  },
  {
   "cell_type": "code",
   "execution_count": 17,
   "metadata": {},
   "outputs": [
    {
     "name": "stdout",
     "output_type": "stream",
     "text": [
      "The F1 score is: 0.7912087912087912\n",
      "The Jaccard Simmilarity Index is: 0.8571428571428571\n",
      "The F1 score is: 0.6914285714285714\n",
      "The Jaccard Simmilarity Index is: 0.7857142857142857\n",
      "The F1 score is: 0.651984126984127\n",
      "The Jaccard Simmilarity Index is: 0.75\n",
      "The F1 score is: 0.6377508519500189\n",
      "The Jaccard Simmilarity Index is: 0.7410071942446043\n",
      "The F1 score is: 0.6349348811209752\n",
      "The Jaccard Simmilarity Index is: 0.7398843930635838\n",
      "The F1 score is: 0.6540620614377046\n",
      "The Jaccard Simmilarity Index is: 0.7548076923076923\n",
      "The F1 score is: 0.6438476475513513\n",
      "The Jaccard Simmilarity Index is: 0.7448559670781894\n",
      "The F1 score is: 0.641355009056674\n",
      "The Jaccard Simmilarity Index is: 0.7436823104693141\n",
      "The F1 score is: 0.6606054522083682\n",
      "The Jaccard Simmilarity Index is: 0.7564102564102564\n"
     ]
    }
   ],
   "source": [
    "#Optimizing Test Size\n",
    "for size in range(1,10):\n",
    "    X_train, X_test, y_train, y_test = train_test_split( X, y, test_size=size/10, random_state=4)\n",
    "    clf = svm.SVC(kernel='rbf')\n",
    "    clf.fit(X, y) \n",
    "\n",
    "    yhat = clf.predict(X_test)\n",
    "\n",
    "    print('The F1 score is:',f1_score(y_test, yhat, average='weighted')) \n",
    "    print('The Jaccard Simmilarity Index is:',jaccard_similarity_score(y_test, yhat))"
   ]
  },
  {
   "cell_type": "code",
   "execution_count": 18,
   "metadata": {},
   "outputs": [
    {
     "name": "stdout",
     "output_type": "stream",
     "text": [
      "The F1 score is: 0.7912087912087912\n",
      "The Jaccard Simmilarity Index is: 0.8571428571428571\n",
      "The F1 score is: 0.786535303776683\n",
      "The Jaccard Simmilarity Index is: 0.7714285714285715\n",
      "The F1 score is: 0.7137073452862926\n",
      "The Jaccard Simmilarity Index is: 0.6857142857142857\n"
     ]
    }
   ],
   "source": [
    "#Optimizing Kernel Type\n",
    "for kernel in ['linear','rbf','sigmoid']:\n",
    "    X_train, X_test, y_train, y_test = train_test_split( X, y, test_size=.1, random_state=4)\n",
    "    clf = svm.SVC(kernel=kernel)\n",
    "    clf.fit(X_train, y_train) \n",
    "\n",
    "    yhat = clf.predict(X_test)\n",
    "\n",
    "    print('The F1 score is:',f1_score(y_test, yhat, average='weighted')) \n",
    "    print('The Jaccard Simmilarity Index is:',jaccard_similarity_score(y_test, yhat))"
   ]
  },
  {
   "cell_type": "markdown",
   "metadata": {},
   "source": [
    "# The best values for Support Vector Machine are a linear kernel and a test_size of .1"
   ]
  },
  {
   "cell_type": "code",
   "execution_count": null,
   "metadata": {},
   "outputs": [],
   "source": []
  }
 ],
 "metadata": {
  "kernelspec": {
   "display_name": "Python 3",
   "language": "python",
   "name": "python3"
  },
  "language_info": {
   "codemirror_mode": {
    "name": "ipython",
    "version": 3
   },
   "file_extension": ".py",
   "mimetype": "text/x-python",
   "name": "python",
   "nbconvert_exporter": "python",
   "pygments_lexer": "ipython3",
   "version": "3.7.4"
  }
 },
 "nbformat": 4,
 "nbformat_minor": 4
}
