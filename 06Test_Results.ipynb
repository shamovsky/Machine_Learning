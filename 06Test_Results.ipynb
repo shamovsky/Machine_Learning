{
 "cells": [
  {
   "cell_type": "markdown",
   "metadata": {},
   "source": [
    "# Model evaluation using test data set and all models"
   ]
  },
  {
   "cell_type": "code",
   "execution_count": 9,
   "metadata": {},
   "outputs": [],
   "source": [
    "import itertools\n",
    "import numpy as np\n",
    "import matplotlib.pyplot as plt\n",
    "from matplotlib.ticker import NullFormatter\n",
    "import pandas as pd\n",
    "import numpy as np\n",
    "import matplotlib.ticker as ticker\n",
    "from sklearn import preprocessing\n",
    "from sklearn.metrics import f1_score, jaccard_similarity_score\n",
    "\n",
    "%matplotlib inline\n",
    "Feature=pd.read_csv('Feature')\n",
    "df = pd.read_csv('loan_train.csv')\n",
    "X=np.load('X.npy')\n",
    "y = df['loan_status'].values #labels\n",
    "#X= preprocessing.StandardScaler().fit(X).transform(X)\n",
    "\n",
    "from sklearn.model_selection import train_test_split\n",
    "from sklearn import metrics\n",
    "\n",
    "from sklearn.linear_model import LogisticRegression\n",
    "from sklearn.metrics import log_loss\n",
    "from sklearn import svm\n",
    "from sklearn.tree import DecisionTreeClassifier\n",
    "from sklearn.neighbors import KNeighborsClassifier\n",
    "\n",
    "import warnings\n",
    "warnings.filterwarnings(\"ignore\") "
   ]
  },
  {
   "cell_type": "code",
   "execution_count": 10,
   "metadata": {},
   "outputs": [
    {
     "name": "stdout",
     "output_type": "stream",
     "text": [
      "--2019-11-16 14:41:16--  https://s3-api.us-geo.objectstorage.softlayer.net/cf-courses-data/CognitiveClass/ML0101ENv3/labs/loan_test.csv\n",
      "Resolving s3-api.us-geo.objectstorage.softlayer.net (s3-api.us-geo.objectstorage.softlayer.net)... 67.228.254.196\n",
      "Connecting to s3-api.us-geo.objectstorage.softlayer.net (s3-api.us-geo.objectstorage.softlayer.net)|67.228.254.196|:443... connected.\n",
      "HTTP request sent, awaiting response... 200 OK\n",
      "Length: 3642 (3.6K) [text/csv]\n",
      "Saving to: ‘loan_test.csv’\n",
      "\n",
      "loan_test.csv       100%[===================>]   3.56K  --.-KB/s    in 0s      \n",
      "\n",
      "2019-11-16 14:41:16 (32.8 MB/s) - ‘loan_test.csv’ saved [3642/3642]\n",
      "\n"
     ]
    }
   ],
   "source": [
    "!wget -O loan_test.csv https://s3-api.us-geo.objectstorage.softlayer.net/cf-courses-data/CognitiveClass/ML0101ENv3/labs/loan_test.csv"
   ]
  },
  {
   "cell_type": "markdown",
   "metadata": {},
   "source": [
    "# Quick Preprocessing"
   ]
  },
  {
   "cell_type": "code",
   "execution_count": 11,
   "metadata": {},
   "outputs": [],
   "source": [
    "from sklearn import preprocessing\n",
    "test_df = pd.read_csv('loan_test.csv')\n",
    "\n",
    "\n",
    "test_df['due_date'] = pd.to_datetime(test_df['due_date'])\n",
    "test_df['effective_date'] = pd.to_datetime(test_df['effective_date'])\n",
    "test_df['dayofweek'] = test_df['effective_date'].dt.dayofweek\n",
    "test_df['weekend'] = test_df['dayofweek'].apply(lambda x: 1 if (x>3)  else 0)\n",
    "test_df['Gender'].replace(to_replace=['male','female'], value=[0,1],inplace=True)\n",
    "Feature = test_df[['Principal','terms','age','Gender','weekend']]\n",
    "Feature = pd.concat([Feature,pd.get_dummies(test_df['education'])], axis=1)\n",
    "Feature.drop(['Master or Above'], axis = 1,inplace=True)\n",
    "Xf = Feature\n",
    "\n",
    "yf = test_df['loan_status'].values\n",
    "\n",
    "Xf= preprocessing.StandardScaler().fit(Xf).transform(Xf.astype(float))\n",
    "X_trainKNN=pd.read_csv('Xtrain_KNN')\n",
    "y_trainKNN=pd.read_csv('ytrain_KNN')\n",
    "X_trainset_tree=pd.read_csv('Xtrain_tree')\n",
    "y_trainset_tree=pd.read_csv('ytrain_tree')\n",
    "X_train_svm=pd.read_csv('Xtrain_svm')\n",
    "y_train_svm=pd.read_csv('ytrain_svm')\n",
    "X_train_LR=pd.read_csv('Xtrain_LR')\n",
    "y_train_LR=pd.read_csv('ytrain_LR')"
   ]
  },
  {
   "cell_type": "markdown",
   "metadata": {},
   "source": [
    "# KNN"
   ]
  },
  {
   "cell_type": "code",
   "execution_count": 12,
   "metadata": {},
   "outputs": [
    {
     "name": "stdout",
     "output_type": "stream",
     "text": [
      "The F1 score is: 0.6151515151515151\n",
      "The Jaccard Simmilarity Index is: 0.6666666666666666\n"
     ]
    }
   ],
   "source": [
    "k=9\n",
    "neigh = KNeighborsClassifier(n_neighbors = 9).fit(X_trainKNN.values,y_trainKNN.values)\n",
    "\n",
    "yhat_K = neigh.predict(Xf)\n",
    "k1=jaccard_similarity_score(yf,yhat_K)\n",
    "k2=f1_score(yf,yhat_K,average='weighted')\n",
    "\n",
    "print('The F1 score is:',f1_score(yf, yhat_K, average='weighted')) \n",
    "print('The Jaccard Simmilarity Index is:',jaccard_similarity_score(yf, yhat_K))"
   ]
  },
  {
   "cell_type": "markdown",
   "metadata": {},
   "source": [
    "# Decision Tree"
   ]
  },
  {
   "cell_type": "code",
   "execution_count": 13,
   "metadata": {},
   "outputs": [
    {
     "name": "stdout",
     "output_type": "stream",
     "text": [
      "DecisionTree's Jaccard Similarity Index:  0.7407407407407407\n",
      "DecisionTree's F1 Score is: 0.6304176516942475\n"
     ]
    }
   ],
   "source": [
    "##Test Data-TREE\n",
    "Tree = DecisionTreeClassifier(criterion=\"entropy\", max_depth = 2)\n",
    "Tree.fit(X_trainset_tree,y_trainset_tree)\n",
    "predTree = Tree.predict(Xf)\n",
    "t1=jaccard_similarity_score(yf,predTree)\n",
    "t2=f1_score(yf,predTree,average='weighted')\n",
    "print(\"DecisionTree's Jaccard Similarity Index: \", jaccard_similarity_score(yf, predTree))\n",
    "print(\"DecisionTree's F1 Score is:\",f1_score(yf,predTree,average='weighted'))"
   ]
  },
  {
   "cell_type": "markdown",
   "metadata": {},
   "source": [
    "# Support Vector Machine"
   ]
  },
  {
   "cell_type": "code",
   "execution_count": 14,
   "metadata": {},
   "outputs": [
    {
     "name": "stdout",
     "output_type": "stream",
     "text": [
      "The F1 score is: 0.6304176516942475\n",
      "The Jaccard Simmilarity Index is: 0.7407407407407407\n"
     ]
    }
   ],
   "source": [
    "##Test Data SVM\n",
    "clf = svm.SVC(kernel='linear')\n",
    "clf.fit(X_train_svm, y_train_svm) \n",
    "\n",
    "yhat_SVM = clf.predict(Xf)\n",
    "s1=jaccard_similarity_score(yf,yhat_SVM)\n",
    "s2=f1_score(yf,yhat_SVM,average='weighted')\n",
    "\n",
    "print('The F1 score is:',f1_score(yf, yhat_SVM, average='weighted')) \n",
    "print('The Jaccard Simmilarity Index is:',jaccard_similarity_score(yf, yhat_SVM))"
   ]
  },
  {
   "cell_type": "markdown",
   "metadata": {},
   "source": [
    "# Logistic Regression"
   ]
  },
  {
   "cell_type": "code",
   "execution_count": 15,
   "metadata": {},
   "outputs": [
    {
     "name": "stdout",
     "output_type": "stream",
     "text": [
      "The Jaccard Index is: 0.7407407407407407\n",
      "The F1 score is: 0.6304176516942475\n",
      "The Log Loss is: 0.47101723936093937\n"
     ]
    }
   ],
   "source": [
    "##Test Data Logistic\n",
    "LR = LogisticRegression(C=0.1, solver='newton-cg').fit(X_train_LR,y_train_LR)\n",
    "yhat_log = LR.predict(Xf)\n",
    "yhat_prob = LR.predict_proba(Xf)\n",
    "l1=jaccard_similarity_score(yf,yhat_log)\n",
    "l2=f1_score(yf,yhat_log,average='weighted')\n",
    "l3=log_loss(yf,yhat_prob)\n",
    "print('The Jaccard Index is:',jaccard_similarity_score(yf, yhat_log))\n",
    "print('The F1 score is:',f1_score(yf, yhat_log, average='weighted'))\n",
    "print('The Log Loss is:',log_loss(yf, yhat_prob))"
   ]
  },
  {
   "cell_type": "code",
   "execution_count": 16,
   "metadata": {},
   "outputs": [
    {
     "data": {
      "text/html": [
       "<div>\n",
       "<style scoped>\n",
       "    .dataframe tbody tr th:only-of-type {\n",
       "        vertical-align: middle;\n",
       "    }\n",
       "\n",
       "    .dataframe tbody tr th {\n",
       "        vertical-align: top;\n",
       "    }\n",
       "\n",
       "    .dataframe thead th {\n",
       "        text-align: right;\n",
       "    }\n",
       "</style>\n",
       "<table border=\"1\" class=\"dataframe\">\n",
       "  <thead>\n",
       "    <tr style=\"text-align: right;\">\n",
       "      <th></th>\n",
       "      <th>Algorithm</th>\n",
       "      <th>Jaccard</th>\n",
       "      <th>F1-Score</th>\n",
       "      <th>LogLoss</th>\n",
       "    </tr>\n",
       "  </thead>\n",
       "  <tbody>\n",
       "    <tr>\n",
       "      <th>0</th>\n",
       "      <td>KNN</td>\n",
       "      <td>0.666667</td>\n",
       "      <td>0.615152</td>\n",
       "      <td>N/A</td>\n",
       "    </tr>\n",
       "    <tr>\n",
       "      <th>1</th>\n",
       "      <td>Decision Tree</td>\n",
       "      <td>0.740741</td>\n",
       "      <td>0.630418</td>\n",
       "      <td>N/A</td>\n",
       "    </tr>\n",
       "    <tr>\n",
       "      <th>2</th>\n",
       "      <td>SVM</td>\n",
       "      <td>0.740741</td>\n",
       "      <td>0.630418</td>\n",
       "      <td>N/A</td>\n",
       "    </tr>\n",
       "    <tr>\n",
       "      <th>3</th>\n",
       "      <td>LogisticRegression</td>\n",
       "      <td>0.740741</td>\n",
       "      <td>0.630418</td>\n",
       "      <td>0.471017</td>\n",
       "    </tr>\n",
       "  </tbody>\n",
       "</table>\n",
       "</div>"
      ],
      "text/plain": [
       "            Algorithm   Jaccard  F1-Score   LogLoss\n",
       "0                 KNN  0.666667  0.615152       N/A\n",
       "1       Decision Tree  0.740741  0.630418       N/A\n",
       "2                 SVM  0.740741  0.630418       N/A\n",
       "3  LogisticRegression  0.740741  0.630418  0.471017"
      ]
     },
     "execution_count": 16,
     "metadata": {},
     "output_type": "execute_result"
    }
   ],
   "source": [
    "data=[['KNN',k1,k2,'N/A'],['Decision Tree',t1,t2,'N/A'],['SVM',s1,s2,'N/A'],['LogisticRegression',l1,l2,l3]]\n",
    "df=pd.DataFrame(data,columns=['Algorithm','Jaccard','F1-Score','LogLoss'])\n",
    "df"
   ]
  },
  {
   "cell_type": "markdown",
   "metadata": {},
   "source": [
    "# In the future we will use grid search to optimize these parameters, as looping through is simply too messy"
   ]
  }
 ],
 "metadata": {
  "kernelspec": {
   "display_name": "Python 3",
   "language": "python",
   "name": "python3"
  },
  "language_info": {
   "codemirror_mode": {
    "name": "ipython",
    "version": 3
   },
   "file_extension": ".py",
   "mimetype": "text/x-python",
   "name": "python",
   "nbconvert_exporter": "python",
   "pygments_lexer": "ipython3",
   "version": "3.7.4"
  }
 },
 "nbformat": 4,
 "nbformat_minor": 4
}
